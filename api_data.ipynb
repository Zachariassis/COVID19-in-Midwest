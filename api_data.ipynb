{
 "cells": [
  {
   "cell_type": "code",
   "execution_count": 95,
   "metadata": {},
   "outputs": [],
   "source": [
    "import numpy as np\n",
    "import pandas as pd\n",
    "import matplotlib.pyplot as plt\n",
    "import requests\n",
    "from census import Census\n",
    "\n",
    "# Census API Key\n",
    "from config import census_key\n",
    "c = Census(census_key, year=2018)"
   ]
  },
  {
   "cell_type": "code",
   "execution_count": 108,
   "metadata": {},
   "outputs": [
    {
     "output_type": "execute_result",
     "data": {
      "text/plain": "       FIPS     Admin2 Province_State Country_Region          Last_Update  \\\n2046  27137  St. Louis      Minnesota             US  2020-09-12 04:25:05   \n2247  29189  St. Louis       Missouri             US  2020-09-12 04:25:05   \n\n            Lat      Long_  Confirmed  Deaths  Recovered   Active  \\\n2046  47.604841 -92.468799       1090      25          0   1065.0   \n2247  38.637700 -90.445837      21343     763          0  20580.0   \n\n                  Combined_Key  Incidence_Rate  Case-Fatality_Ratio  \n2046  St. Louis, Minnesota, US      547.546089             2.293578  \n2247   St. Louis, Missouri, US     2146.740360             3.574943  ",
      "text/html": "<div>\n<style scoped>\n    .dataframe tbody tr th:only-of-type {\n        vertical-align: middle;\n    }\n\n    .dataframe tbody tr th {\n        vertical-align: top;\n    }\n\n    .dataframe thead th {\n        text-align: right;\n    }\n</style>\n<table border=\"1\" class=\"dataframe\">\n  <thead>\n    <tr style=\"text-align: right;\">\n      <th></th>\n      <th>FIPS</th>\n      <th>Admin2</th>\n      <th>Province_State</th>\n      <th>Country_Region</th>\n      <th>Last_Update</th>\n      <th>Lat</th>\n      <th>Long_</th>\n      <th>Confirmed</th>\n      <th>Deaths</th>\n      <th>Recovered</th>\n      <th>Active</th>\n      <th>Combined_Key</th>\n      <th>Incidence_Rate</th>\n      <th>Case-Fatality_Ratio</th>\n    </tr>\n  </thead>\n  <tbody>\n    <tr>\n      <th>2046</th>\n      <td>27137</td>\n      <td>St. Louis</td>\n      <td>Minnesota</td>\n      <td>US</td>\n      <td>2020-09-12 04:25:05</td>\n      <td>47.604841</td>\n      <td>-92.468799</td>\n      <td>1090</td>\n      <td>25</td>\n      <td>0</td>\n      <td>1065.0</td>\n      <td>St. Louis, Minnesota, US</td>\n      <td>547.546089</td>\n      <td>2.293578</td>\n    </tr>\n    <tr>\n      <th>2247</th>\n      <td>29189</td>\n      <td>St. Louis</td>\n      <td>Missouri</td>\n      <td>US</td>\n      <td>2020-09-12 04:25:05</td>\n      <td>38.637700</td>\n      <td>-90.445837</td>\n      <td>21343</td>\n      <td>763</td>\n      <td>0</td>\n      <td>20580.0</td>\n      <td>St. Louis, Missouri, US</td>\n      <td>2146.740360</td>\n      <td>3.574943</td>\n    </tr>\n  </tbody>\n</table>\n</div>"
     },
     "metadata": {},
     "execution_count": 108
    }
   ],
   "source": [
    "#Import covid data \n",
    "covid_91120_data=pd.read_csv('CSV_Data/09-11-2020.csv')\n",
    "covid_91120_data=covid_91120_data.loc[covid_91120_data['FIPS'].isnull()==False]\n",
    "covid_91120_data['FIPS']=covid_91120_data['FIPS'].astype(int).astype(str)\n",
    "covid_91120_data.head()\n",
    "\n",
    "covid_91120_data.loc[covid_91120_data['Admin2']=='St. Louis']\n",
    "\n"
   ]
  },
  {
   "cell_type": "code",
   "execution_count": 110,
   "metadata": {
    "tags": []
   },
   "outputs": [
    {
     "output_type": "stream",
     "name": "stdout",
     "text": "115\n"
    },
    {
     "output_type": "execute_result",
     "data": {
      "text/plain": "    Total Population  Per Capita Income   FIPS          County     State  \\\n49          998684.0            39784.0  29189       St. Louis  Missouri   \n65          692003.0            30237.0  29095         Jackson  Missouri   \n86          389985.0            37229.0  29183     St. Charles  Missouri   \n91          311273.0            28478.0  29510  St. Louis City  Missouri   \n36          288429.0            26378.0  29077          Greene  Missouri   \n\n   Country_Region          Last_Update        Lat      Long_  Confirmed  \\\n49             US  2020-09-12 04:25:05  38.637700 -90.445837      21343   \n65             US  2020-09-12 04:25:05  39.010022 -94.347245       6313   \n86             US  2020-09-12 04:25:05  38.778757 -90.666624       6468   \n91             US  2020-09-12 04:25:05  38.635557 -90.243492       6527   \n36             US  2020-09-12 04:25:05  37.257587 -93.342309       4407   \n\n    Deaths  Recovered   Active  Incidence_Rate  Case-Fatality_Ratio  \n49     763          0  20580.0     2146.740360             3.574943  \n65      85          0   6228.0      897.994484             1.346428  \n86     105          0   6363.0     1608.867176             1.623377  \n91     192          0   6335.0     2171.497392             2.941627  \n36      19          0   4388.0     1503.654218             0.431132  ",
      "text/html": "<div>\n<style scoped>\n    .dataframe tbody tr th:only-of-type {\n        vertical-align: middle;\n    }\n\n    .dataframe tbody tr th {\n        vertical-align: top;\n    }\n\n    .dataframe thead th {\n        text-align: right;\n    }\n</style>\n<table border=\"1\" class=\"dataframe\">\n  <thead>\n    <tr style=\"text-align: right;\">\n      <th></th>\n      <th>Total Population</th>\n      <th>Per Capita Income</th>\n      <th>FIPS</th>\n      <th>County</th>\n      <th>State</th>\n      <th>Country_Region</th>\n      <th>Last_Update</th>\n      <th>Lat</th>\n      <th>Long_</th>\n      <th>Confirmed</th>\n      <th>Deaths</th>\n      <th>Recovered</th>\n      <th>Active</th>\n      <th>Incidence_Rate</th>\n      <th>Case-Fatality_Ratio</th>\n    </tr>\n  </thead>\n  <tbody>\n    <tr>\n      <th>49</th>\n      <td>998684.0</td>\n      <td>39784.0</td>\n      <td>29189</td>\n      <td>St. Louis</td>\n      <td>Missouri</td>\n      <td>US</td>\n      <td>2020-09-12 04:25:05</td>\n      <td>38.637700</td>\n      <td>-90.445837</td>\n      <td>21343</td>\n      <td>763</td>\n      <td>0</td>\n      <td>20580.0</td>\n      <td>2146.740360</td>\n      <td>3.574943</td>\n    </tr>\n    <tr>\n      <th>65</th>\n      <td>692003.0</td>\n      <td>30237.0</td>\n      <td>29095</td>\n      <td>Jackson</td>\n      <td>Missouri</td>\n      <td>US</td>\n      <td>2020-09-12 04:25:05</td>\n      <td>39.010022</td>\n      <td>-94.347245</td>\n      <td>6313</td>\n      <td>85</td>\n      <td>0</td>\n      <td>6228.0</td>\n      <td>897.994484</td>\n      <td>1.346428</td>\n    </tr>\n    <tr>\n      <th>86</th>\n      <td>389985.0</td>\n      <td>37229.0</td>\n      <td>29183</td>\n      <td>St. Charles</td>\n      <td>Missouri</td>\n      <td>US</td>\n      <td>2020-09-12 04:25:05</td>\n      <td>38.778757</td>\n      <td>-90.666624</td>\n      <td>6468</td>\n      <td>105</td>\n      <td>0</td>\n      <td>6363.0</td>\n      <td>1608.867176</td>\n      <td>1.623377</td>\n    </tr>\n    <tr>\n      <th>91</th>\n      <td>311273.0</td>\n      <td>28478.0</td>\n      <td>29510</td>\n      <td>St. Louis City</td>\n      <td>Missouri</td>\n      <td>US</td>\n      <td>2020-09-12 04:25:05</td>\n      <td>38.635557</td>\n      <td>-90.243492</td>\n      <td>6527</td>\n      <td>192</td>\n      <td>0</td>\n      <td>6335.0</td>\n      <td>2171.497392</td>\n      <td>2.941627</td>\n    </tr>\n    <tr>\n      <th>36</th>\n      <td>288429.0</td>\n      <td>26378.0</td>\n      <td>29077</td>\n      <td>Greene</td>\n      <td>Missouri</td>\n      <td>US</td>\n      <td>2020-09-12 04:25:05</td>\n      <td>37.257587</td>\n      <td>-93.342309</td>\n      <td>4407</td>\n      <td>19</td>\n      <td>0</td>\n      <td>4388.0</td>\n      <td>1503.654218</td>\n      <td>0.431132</td>\n    </tr>\n  </tbody>\n</table>\n</div>"
     },
     "metadata": {},
     "execution_count": 110
    }
   ],
   "source": [
    "# Run Census Search to retrieve data on all zip codes (2013 ACS5 Census)\n",
    "# See: https://github.com/CommerceDataService/census-wrapper for library documentation\n",
    "# See: https://gist.github.com/afhaque/60558290d6efd892351c4b64e5c01e9b for labels\n",
    "\n",
    "#https://api.census.gov/data/2018/acs/acs5/subject?get=NAME,S0101_C01_001E&for=county:*&key=YOUR_KEY_GOES_HERE\n",
    "mo_census_data = c.acs5.get((\"NAME\", \"B01003_001E\", \"B19301_001E\"), {'for': 'county:*','in':'state:29'})\n",
    "mo_census_pd = pd.DataFrame(mo_census_data)\n",
    "\n",
    "# Column Reordering\n",
    "mo_census_pd = mo_census_pd.rename(columns={\"B01003_001E\": \"Total Population\",\n",
    "                                      \"B19301_001E\": \"Per Capita Income\",        \n",
    "                                      \"NAME\": \"County, State\"})\n",
    "                                   \n",
    "mo_census_pd['FIPS']=mo_census_pd['state']+mo_census_pd['county']\n",
    "mo_census_pd=mo_census_pd.drop(columns=['state','county'])\n",
    "mo_census_pd=mo_census_pd.merge(covid_91120_data,how='left',on='FIPS').drop(columns={'County, State','Combined_Key'}).rename(columns={'Admin2':'County','Province_State':'State'})\n",
    "\n",
    "\n",
    "# Final DataFrame\n",
    "#census_pd = census_pd[[\"Zipcode\", \"Population\", \"Median Age\", \"Household Income\",\n",
    "                       #\"Per Capita Income\", \"Poverty Count\", \"Poverty Rate\"]]\n",
    "\n",
    "# Visualize\n",
    "print(len(mo_census_pd))\n",
    "mo_census_pd.head()\n",
    "mo_census_top = mo_census_pd.nlargest(10,[\"Total Population\"])\n",
    "#mo_census_top['County, State'].str.split(pat=',',expand=True)\n",
    "#mo_census_top=mo_census_top.merge(mo_census_top['County, State'].str.split(pat=',',expand=True),how=\"outer\", left_index=True, right_index=True) \n",
    "#mo_census_top = mo_census_top.rename(columns={0: \"County\",\n",
    "#                                      1: \"State\"})\n",
    "                                      #.drop(columns=[\"County, State\"])\n",
    "mo_census_top.head()"
   ]
  },
  {
   "cell_type": "code",
   "execution_count": 111,
   "metadata": {
    "tags": []
   },
   "outputs": [
    {
     "output_type": "stream",
     "name": "stdout",
     "text": "102\n"
    },
    {
     "output_type": "execute_result",
     "data": {
      "text/plain": "    Total Population  Per Capita Income   FIPS     County     State  \\\n38         5223719.0            35575.0  17031       Cook  Illinois   \n34          931743.0            43982.0  17043     DuPage  Illinois   \n26          703619.0            44287.0  17097       Lake  Illinois   \n18          688697.0            35259.0  17197       Will  Illinois   \n54          530839.0            34924.0  17089       Kane  Illinois   \n44          307789.0            38047.0  17111    McHenry  Illinois   \n66          286174.0            28250.0  17201  Winnebago  Illinois   \n86          265670.0            30802.0  17119    Madison  Illinois   \n49          263463.0            29541.0  17163  St. Clair  Illinois   \n97          209448.0            29683.0  17019  Champaign  Illinois   \n\n   Country_Region          Last_Update        Lat      Long_  Confirmed  \\\n38             US  2020-09-12 04:25:05  41.841448 -87.816588     133686   \n34             US  2020-09-12 04:25:05  41.851170 -88.086427      15826   \n26             US  2020-09-12 04:25:05  42.322491 -88.003679      15583   \n18             US  2020-09-12 04:25:05  41.446193 -87.978627      12681   \n54             US  2020-09-12 04:25:05  41.938427 -88.428614      11965   \n44             US  2020-09-12 04:25:05  42.324512 -88.452482       4203   \n66             US  2020-09-12 04:25:05  42.336419 -89.160853       4731   \n86             US  2020-09-12 04:25:05  38.830425 -89.904226       4780   \n49             US  2020-09-12 04:25:05  38.469960 -89.930634       5924   \n97             US  2020-09-12 04:25:05  40.139194 -88.200466       3876   \n\n    Deaths  Recovered    Active  Incidence_Rate  Case-Fatality_Ratio  \n38    5112          0  128574.0     2595.727222             3.823886  \n34     544          0   15282.0     1714.772987             3.437382  \n26     477          0   15106.0     2237.217082             3.061028  \n18     367          0   12314.0     1835.849223             2.894094  \n54     321          0   11644.0     2247.357735             2.682825  \n44     116          0    4087.0     1365.612430             2.759933  \n66     148          0    4583.0     1674.263551             3.128303  \n86     117          0    4663.0     1817.725485             2.447699  \n49     178          0    5746.0     2281.216546             3.004727  \n97      20          0    3856.0     1848.451755             0.515996  ",
      "text/html": "<div>\n<style scoped>\n    .dataframe tbody tr th:only-of-type {\n        vertical-align: middle;\n    }\n\n    .dataframe tbody tr th {\n        vertical-align: top;\n    }\n\n    .dataframe thead th {\n        text-align: right;\n    }\n</style>\n<table border=\"1\" class=\"dataframe\">\n  <thead>\n    <tr style=\"text-align: right;\">\n      <th></th>\n      <th>Total Population</th>\n      <th>Per Capita Income</th>\n      <th>FIPS</th>\n      <th>County</th>\n      <th>State</th>\n      <th>Country_Region</th>\n      <th>Last_Update</th>\n      <th>Lat</th>\n      <th>Long_</th>\n      <th>Confirmed</th>\n      <th>Deaths</th>\n      <th>Recovered</th>\n      <th>Active</th>\n      <th>Incidence_Rate</th>\n      <th>Case-Fatality_Ratio</th>\n    </tr>\n  </thead>\n  <tbody>\n    <tr>\n      <th>38</th>\n      <td>5223719.0</td>\n      <td>35575.0</td>\n      <td>17031</td>\n      <td>Cook</td>\n      <td>Illinois</td>\n      <td>US</td>\n      <td>2020-09-12 04:25:05</td>\n      <td>41.841448</td>\n      <td>-87.816588</td>\n      <td>133686</td>\n      <td>5112</td>\n      <td>0</td>\n      <td>128574.0</td>\n      <td>2595.727222</td>\n      <td>3.823886</td>\n    </tr>\n    <tr>\n      <th>34</th>\n      <td>931743.0</td>\n      <td>43982.0</td>\n      <td>17043</td>\n      <td>DuPage</td>\n      <td>Illinois</td>\n      <td>US</td>\n      <td>2020-09-12 04:25:05</td>\n      <td>41.851170</td>\n      <td>-88.086427</td>\n      <td>15826</td>\n      <td>544</td>\n      <td>0</td>\n      <td>15282.0</td>\n      <td>1714.772987</td>\n      <td>3.437382</td>\n    </tr>\n    <tr>\n      <th>26</th>\n      <td>703619.0</td>\n      <td>44287.0</td>\n      <td>17097</td>\n      <td>Lake</td>\n      <td>Illinois</td>\n      <td>US</td>\n      <td>2020-09-12 04:25:05</td>\n      <td>42.322491</td>\n      <td>-88.003679</td>\n      <td>15583</td>\n      <td>477</td>\n      <td>0</td>\n      <td>15106.0</td>\n      <td>2237.217082</td>\n      <td>3.061028</td>\n    </tr>\n    <tr>\n      <th>18</th>\n      <td>688697.0</td>\n      <td>35259.0</td>\n      <td>17197</td>\n      <td>Will</td>\n      <td>Illinois</td>\n      <td>US</td>\n      <td>2020-09-12 04:25:05</td>\n      <td>41.446193</td>\n      <td>-87.978627</td>\n      <td>12681</td>\n      <td>367</td>\n      <td>0</td>\n      <td>12314.0</td>\n      <td>1835.849223</td>\n      <td>2.894094</td>\n    </tr>\n    <tr>\n      <th>54</th>\n      <td>530839.0</td>\n      <td>34924.0</td>\n      <td>17089</td>\n      <td>Kane</td>\n      <td>Illinois</td>\n      <td>US</td>\n      <td>2020-09-12 04:25:05</td>\n      <td>41.938427</td>\n      <td>-88.428614</td>\n      <td>11965</td>\n      <td>321</td>\n      <td>0</td>\n      <td>11644.0</td>\n      <td>2247.357735</td>\n      <td>2.682825</td>\n    </tr>\n    <tr>\n      <th>44</th>\n      <td>307789.0</td>\n      <td>38047.0</td>\n      <td>17111</td>\n      <td>McHenry</td>\n      <td>Illinois</td>\n      <td>US</td>\n      <td>2020-09-12 04:25:05</td>\n      <td>42.324512</td>\n      <td>-88.452482</td>\n      <td>4203</td>\n      <td>116</td>\n      <td>0</td>\n      <td>4087.0</td>\n      <td>1365.612430</td>\n      <td>2.759933</td>\n    </tr>\n    <tr>\n      <th>66</th>\n      <td>286174.0</td>\n      <td>28250.0</td>\n      <td>17201</td>\n      <td>Winnebago</td>\n      <td>Illinois</td>\n      <td>US</td>\n      <td>2020-09-12 04:25:05</td>\n      <td>42.336419</td>\n      <td>-89.160853</td>\n      <td>4731</td>\n      <td>148</td>\n      <td>0</td>\n      <td>4583.0</td>\n      <td>1674.263551</td>\n      <td>3.128303</td>\n    </tr>\n    <tr>\n      <th>86</th>\n      <td>265670.0</td>\n      <td>30802.0</td>\n      <td>17119</td>\n      <td>Madison</td>\n      <td>Illinois</td>\n      <td>US</td>\n      <td>2020-09-12 04:25:05</td>\n      <td>38.830425</td>\n      <td>-89.904226</td>\n      <td>4780</td>\n      <td>117</td>\n      <td>0</td>\n      <td>4663.0</td>\n      <td>1817.725485</td>\n      <td>2.447699</td>\n    </tr>\n    <tr>\n      <th>49</th>\n      <td>263463.0</td>\n      <td>29541.0</td>\n      <td>17163</td>\n      <td>St. Clair</td>\n      <td>Illinois</td>\n      <td>US</td>\n      <td>2020-09-12 04:25:05</td>\n      <td>38.469960</td>\n      <td>-89.930634</td>\n      <td>5924</td>\n      <td>178</td>\n      <td>0</td>\n      <td>5746.0</td>\n      <td>2281.216546</td>\n      <td>3.004727</td>\n    </tr>\n    <tr>\n      <th>97</th>\n      <td>209448.0</td>\n      <td>29683.0</td>\n      <td>17019</td>\n      <td>Champaign</td>\n      <td>Illinois</td>\n      <td>US</td>\n      <td>2020-09-12 04:25:05</td>\n      <td>40.139194</td>\n      <td>-88.200466</td>\n      <td>3876</td>\n      <td>20</td>\n      <td>0</td>\n      <td>3856.0</td>\n      <td>1848.451755</td>\n      <td>0.515996</td>\n    </tr>\n  </tbody>\n</table>\n</div>"
     },
     "metadata": {},
     "execution_count": 111
    }
   ],
   "source": [
    "il_census_data = c.acs5.get((\"NAME\", \"B01003_001E\", \"B19301_001E\"), {'for': 'county:*','in':'state:17'})\n",
    "il_census_pd = pd.DataFrame(il_census_data)\n",
    "il_census_pd = il_census_pd.rename(columns={\"B01003_001E\": \"Total Population\",\n",
    "                                      \"B19301_001E\": \"Per Capita Income\",        \n",
    "                                      \"NAME\": \"County, State\"})\n",
    "\n",
    "il_census_pd['FIPS']=il_census_pd['state']+il_census_pd['county']\n",
    "il_census_pd=il_census_pd.drop(columns=['state','county'])\n",
    "il_census_pd=il_census_pd.merge(covid_91120_data,how='left',on='FIPS').drop(columns={'County, State','Combined_Key'}).rename(columns={'Admin2':'County','Province_State':'State'})\n",
    "\n",
    "print(len(il_census_pd))\n",
    "il_census_pd.head()\n",
    "il_census_top = il_census_pd.nlargest(10,[\"Total Population\"])\n",
    "#il_census_top['County, State'].str.split(pat=',',expand=True)\n",
    "#il_census_top=il_census_top.merge(il_census_top['County, State'].str.split(pat=',',expand=True),how=\"outer\", left_index=True, right_index=True) \n",
    "#il_census_top = il_census_top.rename(columns={0: \"County\",\n",
    "#                                      1: \"State\"}).drop(columns=[\"County, State\"])\n",
    "il_census_top\n"
   ]
  },
  {
   "cell_type": "code",
   "execution_count": 112,
   "metadata": {
    "tags": []
   },
   "outputs": [
    {
     "output_type": "stream",
     "name": "stdout",
     "text": "92\n"
    },
    {
     "output_type": "execute_result",
     "data": {
      "text/plain": "    Total Population  Per Capita Income   FIPS       County    State  \\\n5           944523.0            27251.0  18097       Marion  Indiana   \n61          486849.0            27660.0  18089         Lake  Indiana   \n27          370016.0            28239.0  18003        Allen  Indiana   \n54          316095.0            46597.0  18057     Hamilton  Indiana   \n85          269240.0            27338.0  18141   St. Joseph  Indiana   \n2           203604.0            25075.0  18039      Elkhart  Indiana   \n51          189294.0            26262.0  18157   Tippecanoe  Indiana   \n37          181313.0            28320.0  18163  Vanderburgh  Indiana   \n45          168041.0            32943.0  18127       Porter  Indiana   \n7           160940.0            34689.0  18063    Hendricks  Indiana   \n\n   Country_Region          Last_Update        Lat      Long_  Confirmed  \\\n5              US  2020-09-12 04:25:05  39.781636 -86.138263      19549   \n61             US  2020-09-12 04:25:05  41.418743 -87.382776       9732   \n27             US  2020-09-12 04:25:05  41.091943 -85.068006       5519   \n54             US  2020-09-12 04:25:05  40.073065 -86.052447       4369   \n85             US  2020-09-12 04:25:05  41.617568 -86.290408       5601   \n2              US  2020-09-12 04:25:05  41.597612 -85.858757       5937   \n51             US  2020-09-12 04:25:05  40.388727 -86.894140       1902   \n37             US  2020-09-12 04:25:05  38.026588 -87.587631       2932   \n45             US  2020-09-12 04:25:05  41.459869 -87.068489       1886   \n7              US  2020-09-12 04:25:05  39.767190 -86.510373       2511   \n\n    Deaths  Recovered   Active  Incidence_Rate  Case-Fatality_Ratio  \n5      754          0  18795.0     2026.680987             3.856975  \n61     307          0   9425.0     2004.560313             3.154542  \n27     189          0   5330.0     1455.052610             3.424533  \n54     107          0   4262.0     1292.561485             2.449073  \n85      96          0   5505.0     2060.509296             1.713980  \n2      103          0   5834.0     2877.275966             1.734883  \n51      13          0   1889.0      971.736865             0.683491  \n37      23          0   2909.0     1615.863236             0.784447  \n45      43          0   1843.0     1106.878965             2.279958  \n7      119          0   2392.0     1474.361609             4.739148  ",
      "text/html": "<div>\n<style scoped>\n    .dataframe tbody tr th:only-of-type {\n        vertical-align: middle;\n    }\n\n    .dataframe tbody tr th {\n        vertical-align: top;\n    }\n\n    .dataframe thead th {\n        text-align: right;\n    }\n</style>\n<table border=\"1\" class=\"dataframe\">\n  <thead>\n    <tr style=\"text-align: right;\">\n      <th></th>\n      <th>Total Population</th>\n      <th>Per Capita Income</th>\n      <th>FIPS</th>\n      <th>County</th>\n      <th>State</th>\n      <th>Country_Region</th>\n      <th>Last_Update</th>\n      <th>Lat</th>\n      <th>Long_</th>\n      <th>Confirmed</th>\n      <th>Deaths</th>\n      <th>Recovered</th>\n      <th>Active</th>\n      <th>Incidence_Rate</th>\n      <th>Case-Fatality_Ratio</th>\n    </tr>\n  </thead>\n  <tbody>\n    <tr>\n      <th>5</th>\n      <td>944523.0</td>\n      <td>27251.0</td>\n      <td>18097</td>\n      <td>Marion</td>\n      <td>Indiana</td>\n      <td>US</td>\n      <td>2020-09-12 04:25:05</td>\n      <td>39.781636</td>\n      <td>-86.138263</td>\n      <td>19549</td>\n      <td>754</td>\n      <td>0</td>\n      <td>18795.0</td>\n      <td>2026.680987</td>\n      <td>3.856975</td>\n    </tr>\n    <tr>\n      <th>61</th>\n      <td>486849.0</td>\n      <td>27660.0</td>\n      <td>18089</td>\n      <td>Lake</td>\n      <td>Indiana</td>\n      <td>US</td>\n      <td>2020-09-12 04:25:05</td>\n      <td>41.418743</td>\n      <td>-87.382776</td>\n      <td>9732</td>\n      <td>307</td>\n      <td>0</td>\n      <td>9425.0</td>\n      <td>2004.560313</td>\n      <td>3.154542</td>\n    </tr>\n    <tr>\n      <th>27</th>\n      <td>370016.0</td>\n      <td>28239.0</td>\n      <td>18003</td>\n      <td>Allen</td>\n      <td>Indiana</td>\n      <td>US</td>\n      <td>2020-09-12 04:25:05</td>\n      <td>41.091943</td>\n      <td>-85.068006</td>\n      <td>5519</td>\n      <td>189</td>\n      <td>0</td>\n      <td>5330.0</td>\n      <td>1455.052610</td>\n      <td>3.424533</td>\n    </tr>\n    <tr>\n      <th>54</th>\n      <td>316095.0</td>\n      <td>46597.0</td>\n      <td>18057</td>\n      <td>Hamilton</td>\n      <td>Indiana</td>\n      <td>US</td>\n      <td>2020-09-12 04:25:05</td>\n      <td>40.073065</td>\n      <td>-86.052447</td>\n      <td>4369</td>\n      <td>107</td>\n      <td>0</td>\n      <td>4262.0</td>\n      <td>1292.561485</td>\n      <td>2.449073</td>\n    </tr>\n    <tr>\n      <th>85</th>\n      <td>269240.0</td>\n      <td>27338.0</td>\n      <td>18141</td>\n      <td>St. Joseph</td>\n      <td>Indiana</td>\n      <td>US</td>\n      <td>2020-09-12 04:25:05</td>\n      <td>41.617568</td>\n      <td>-86.290408</td>\n      <td>5601</td>\n      <td>96</td>\n      <td>0</td>\n      <td>5505.0</td>\n      <td>2060.509296</td>\n      <td>1.713980</td>\n    </tr>\n    <tr>\n      <th>2</th>\n      <td>203604.0</td>\n      <td>25075.0</td>\n      <td>18039</td>\n      <td>Elkhart</td>\n      <td>Indiana</td>\n      <td>US</td>\n      <td>2020-09-12 04:25:05</td>\n      <td>41.597612</td>\n      <td>-85.858757</td>\n      <td>5937</td>\n      <td>103</td>\n      <td>0</td>\n      <td>5834.0</td>\n      <td>2877.275966</td>\n      <td>1.734883</td>\n    </tr>\n    <tr>\n      <th>51</th>\n      <td>189294.0</td>\n      <td>26262.0</td>\n      <td>18157</td>\n      <td>Tippecanoe</td>\n      <td>Indiana</td>\n      <td>US</td>\n      <td>2020-09-12 04:25:05</td>\n      <td>40.388727</td>\n      <td>-86.894140</td>\n      <td>1902</td>\n      <td>13</td>\n      <td>0</td>\n      <td>1889.0</td>\n      <td>971.736865</td>\n      <td>0.683491</td>\n    </tr>\n    <tr>\n      <th>37</th>\n      <td>181313.0</td>\n      <td>28320.0</td>\n      <td>18163</td>\n      <td>Vanderburgh</td>\n      <td>Indiana</td>\n      <td>US</td>\n      <td>2020-09-12 04:25:05</td>\n      <td>38.026588</td>\n      <td>-87.587631</td>\n      <td>2932</td>\n      <td>23</td>\n      <td>0</td>\n      <td>2909.0</td>\n      <td>1615.863236</td>\n      <td>0.784447</td>\n    </tr>\n    <tr>\n      <th>45</th>\n      <td>168041.0</td>\n      <td>32943.0</td>\n      <td>18127</td>\n      <td>Porter</td>\n      <td>Indiana</td>\n      <td>US</td>\n      <td>2020-09-12 04:25:05</td>\n      <td>41.459869</td>\n      <td>-87.068489</td>\n      <td>1886</td>\n      <td>43</td>\n      <td>0</td>\n      <td>1843.0</td>\n      <td>1106.878965</td>\n      <td>2.279958</td>\n    </tr>\n    <tr>\n      <th>7</th>\n      <td>160940.0</td>\n      <td>34689.0</td>\n      <td>18063</td>\n      <td>Hendricks</td>\n      <td>Indiana</td>\n      <td>US</td>\n      <td>2020-09-12 04:25:05</td>\n      <td>39.767190</td>\n      <td>-86.510373</td>\n      <td>2511</td>\n      <td>119</td>\n      <td>0</td>\n      <td>2392.0</td>\n      <td>1474.361609</td>\n      <td>4.739148</td>\n    </tr>\n  </tbody>\n</table>\n</div>"
     },
     "metadata": {},
     "execution_count": 112
    }
   ],
   "source": [
    "id_census_data = c.acs5.get((\"NAME\", \"B01003_001E\", \"B19301_001E\"), {'for': 'county:*','in':'state:18'})\n",
    "id_census_pd = pd.DataFrame(id_census_data)\n",
    "id_census_pd = id_census_pd.rename(columns={\"B01003_001E\": \"Total Population\",\n",
    "                                      \"B19301_001E\": \"Per Capita Income\",        \n",
    "                                      \"NAME\": \"County, State\"})\n",
    "\n",
    "id_census_pd['FIPS']=id_census_pd['state']+id_census_pd['county']\n",
    "id_census_pd=id_census_pd.drop(columns=['state','county'])\n",
    "id_census_pd=id_census_pd.merge(covid_91120_data,how='left',on='FIPS').drop(columns={'County, State','Combined_Key'}).rename(columns={'Admin2':'County','Province_State':'State'})\n",
    "\n",
    "print(len(id_census_pd))\n",
    "id_census_pd.head()\n",
    "id_census_top = id_census_pd.nlargest(10,[\"Total Population\"])\n",
    "#id_census_top['County, State'].str.split(pat=',',expand=True)\n",
    "#id_census_top=id_census_top.merge(id_census_top['County, State'].str.split(pat=',',expand=True),how=\"outer\", left_index=True, right_index=True) \n",
    "#id_census_top = id_census_top.rename(columns={0: \"County\",\n",
    "#                                      1: \"State\"}).drop(columns=[\"County, State\"])\n",
    "id_census_top"
   ]
  },
  {
   "cell_type": "code",
   "execution_count": 113,
   "metadata": {
    "tags": []
   },
   "outputs": [
    {
     "output_type": "stream",
     "name": "stdout",
     "text": "83\n"
    },
    {
     "output_type": "execute_result",
     "data": {
      "text/plain": "    Total Population  Per Capita Income   FIPS     County     State  \\\n30         1761382.0            25976.0  26163      Wayne  Michigan   \n61         1250843.0            42760.0  26125    Oakland  Michigan   \n50          868704.0            31104.0  26099     Macomb  Michigan   \n49          643140.0            31005.0  26081       Kent  Michigan   \n79          409361.0            26386.0  26049    Genesee  Michigan   \n25          365961.0            39486.0  26161  Washtenaw  Michigan   \n68          289564.0            28366.0  26065     Ingham  Michigan   \n9           284034.0            30558.0  26139     Ottawa  Michigan   \n40          261573.0            30555.0  26077  Kalamazoo  Michigan   \n52          192778.0            26625.0  26145    Saginaw  Michigan   \n\n   Country_Region          Last_Update        Lat      Long_  Confirmed  \\\n30             US  2020-09-12 04:25:05  42.280984 -83.281255      33113   \n61             US  2020-09-12 04:25:05  42.660901 -83.385954      19272   \n50             US  2020-09-12 04:25:05  42.691584 -82.927528      13599   \n49             US  2020-09-12 04:25:05  43.031977 -85.549346       8963   \n79             US  2020-09-12 04:25:05  43.022442 -83.705897       4096   \n25             US  2020-09-12 04:25:05  42.253105 -83.838532       3127   \n68             US  2020-09-12 04:25:05  42.597169 -84.374721       2424   \n9              US  2020-09-12 04:25:05  42.959968 -85.996911       2830   \n40             US  2020-09-12 04:25:05  42.245422 -85.530386       2239   \n52             US  2020-09-12 04:25:05  43.334339 -84.051312       2743   \n\n    Deaths  Recovered   Active  Incidence_Rate  Case-Fatality_Ratio  \n30    2940          0  30173.0     1892.882071             8.878688  \n61    1183          0  18089.0     1532.462245             6.138439  \n50    1001          0  12598.0     1555.999506             7.360835  \n49     171          0   8792.0     1364.324802             1.907843  \n79     305          0   3791.0     1009.331884             7.446289  \n25     114          0   3013.0      850.650570             3.645667  \n68      42          0   2382.0      828.984357             1.732673  \n9       64          0   2766.0      969.742658             2.261484  \n40      91          0   2148.0      844.695283             4.064314  \n52     133          0   2610.0     1439.600292             4.848706  ",
      "text/html": "<div>\n<style scoped>\n    .dataframe tbody tr th:only-of-type {\n        vertical-align: middle;\n    }\n\n    .dataframe tbody tr th {\n        vertical-align: top;\n    }\n\n    .dataframe thead th {\n        text-align: right;\n    }\n</style>\n<table border=\"1\" class=\"dataframe\">\n  <thead>\n    <tr style=\"text-align: right;\">\n      <th></th>\n      <th>Total Population</th>\n      <th>Per Capita Income</th>\n      <th>FIPS</th>\n      <th>County</th>\n      <th>State</th>\n      <th>Country_Region</th>\n      <th>Last_Update</th>\n      <th>Lat</th>\n      <th>Long_</th>\n      <th>Confirmed</th>\n      <th>Deaths</th>\n      <th>Recovered</th>\n      <th>Active</th>\n      <th>Incidence_Rate</th>\n      <th>Case-Fatality_Ratio</th>\n    </tr>\n  </thead>\n  <tbody>\n    <tr>\n      <th>30</th>\n      <td>1761382.0</td>\n      <td>25976.0</td>\n      <td>26163</td>\n      <td>Wayne</td>\n      <td>Michigan</td>\n      <td>US</td>\n      <td>2020-09-12 04:25:05</td>\n      <td>42.280984</td>\n      <td>-83.281255</td>\n      <td>33113</td>\n      <td>2940</td>\n      <td>0</td>\n      <td>30173.0</td>\n      <td>1892.882071</td>\n      <td>8.878688</td>\n    </tr>\n    <tr>\n      <th>61</th>\n      <td>1250843.0</td>\n      <td>42760.0</td>\n      <td>26125</td>\n      <td>Oakland</td>\n      <td>Michigan</td>\n      <td>US</td>\n      <td>2020-09-12 04:25:05</td>\n      <td>42.660901</td>\n      <td>-83.385954</td>\n      <td>19272</td>\n      <td>1183</td>\n      <td>0</td>\n      <td>18089.0</td>\n      <td>1532.462245</td>\n      <td>6.138439</td>\n    </tr>\n    <tr>\n      <th>50</th>\n      <td>868704.0</td>\n      <td>31104.0</td>\n      <td>26099</td>\n      <td>Macomb</td>\n      <td>Michigan</td>\n      <td>US</td>\n      <td>2020-09-12 04:25:05</td>\n      <td>42.691584</td>\n      <td>-82.927528</td>\n      <td>13599</td>\n      <td>1001</td>\n      <td>0</td>\n      <td>12598.0</td>\n      <td>1555.999506</td>\n      <td>7.360835</td>\n    </tr>\n    <tr>\n      <th>49</th>\n      <td>643140.0</td>\n      <td>31005.0</td>\n      <td>26081</td>\n      <td>Kent</td>\n      <td>Michigan</td>\n      <td>US</td>\n      <td>2020-09-12 04:25:05</td>\n      <td>43.031977</td>\n      <td>-85.549346</td>\n      <td>8963</td>\n      <td>171</td>\n      <td>0</td>\n      <td>8792.0</td>\n      <td>1364.324802</td>\n      <td>1.907843</td>\n    </tr>\n    <tr>\n      <th>79</th>\n      <td>409361.0</td>\n      <td>26386.0</td>\n      <td>26049</td>\n      <td>Genesee</td>\n      <td>Michigan</td>\n      <td>US</td>\n      <td>2020-09-12 04:25:05</td>\n      <td>43.022442</td>\n      <td>-83.705897</td>\n      <td>4096</td>\n      <td>305</td>\n      <td>0</td>\n      <td>3791.0</td>\n      <td>1009.331884</td>\n      <td>7.446289</td>\n    </tr>\n    <tr>\n      <th>25</th>\n      <td>365961.0</td>\n      <td>39486.0</td>\n      <td>26161</td>\n      <td>Washtenaw</td>\n      <td>Michigan</td>\n      <td>US</td>\n      <td>2020-09-12 04:25:05</td>\n      <td>42.253105</td>\n      <td>-83.838532</td>\n      <td>3127</td>\n      <td>114</td>\n      <td>0</td>\n      <td>3013.0</td>\n      <td>850.650570</td>\n      <td>3.645667</td>\n    </tr>\n    <tr>\n      <th>68</th>\n      <td>289564.0</td>\n      <td>28366.0</td>\n      <td>26065</td>\n      <td>Ingham</td>\n      <td>Michigan</td>\n      <td>US</td>\n      <td>2020-09-12 04:25:05</td>\n      <td>42.597169</td>\n      <td>-84.374721</td>\n      <td>2424</td>\n      <td>42</td>\n      <td>0</td>\n      <td>2382.0</td>\n      <td>828.984357</td>\n      <td>1.732673</td>\n    </tr>\n    <tr>\n      <th>9</th>\n      <td>284034.0</td>\n      <td>30558.0</td>\n      <td>26139</td>\n      <td>Ottawa</td>\n      <td>Michigan</td>\n      <td>US</td>\n      <td>2020-09-12 04:25:05</td>\n      <td>42.959968</td>\n      <td>-85.996911</td>\n      <td>2830</td>\n      <td>64</td>\n      <td>0</td>\n      <td>2766.0</td>\n      <td>969.742658</td>\n      <td>2.261484</td>\n    </tr>\n    <tr>\n      <th>40</th>\n      <td>261573.0</td>\n      <td>30555.0</td>\n      <td>26077</td>\n      <td>Kalamazoo</td>\n      <td>Michigan</td>\n      <td>US</td>\n      <td>2020-09-12 04:25:05</td>\n      <td>42.245422</td>\n      <td>-85.530386</td>\n      <td>2239</td>\n      <td>91</td>\n      <td>0</td>\n      <td>2148.0</td>\n      <td>844.695283</td>\n      <td>4.064314</td>\n    </tr>\n    <tr>\n      <th>52</th>\n      <td>192778.0</td>\n      <td>26625.0</td>\n      <td>26145</td>\n      <td>Saginaw</td>\n      <td>Michigan</td>\n      <td>US</td>\n      <td>2020-09-12 04:25:05</td>\n      <td>43.334339</td>\n      <td>-84.051312</td>\n      <td>2743</td>\n      <td>133</td>\n      <td>0</td>\n      <td>2610.0</td>\n      <td>1439.600292</td>\n      <td>4.848706</td>\n    </tr>\n  </tbody>\n</table>\n</div>"
     },
     "metadata": {},
     "execution_count": 113
    }
   ],
   "source": [
    "mi_census_data = c.acs5.get((\"NAME\", \"B01003_001E\", \"B19301_001E\"), {'for': 'county:*','in':'state:26'})\n",
    "mi_census_pd = pd.DataFrame(mi_census_data)\n",
    "mi_census_pd = mi_census_pd.rename(columns={\"B01003_001E\": \"Total Population\",\n",
    "                                      \"B19301_001E\": \"Per Capita Income\",        \n",
    "                                      \"NAME\": \"County, State\"})\n",
    "\n",
    "mi_census_pd['FIPS']=mi_census_pd['state']+mi_census_pd['county']\n",
    "mi_census_pd=mi_census_pd.drop(columns=['state','county'])\n",
    "mi_census_pd=mi_census_pd.merge(covid_91120_data,how='left',on='FIPS').drop(columns={'County, State','Combined_Key'}).rename(columns={'Admin2':'County','Province_State':'State'})\n",
    "\n",
    "print(len(mi_census_pd))\n",
    "mi_census_pd.head()\n",
    "mi_census_top = mi_census_pd.nlargest(10,[\"Total Population\"])\n",
    "#mi_census_top['County, State'].str.split(pat=',',expand=True)\n",
    "#mi_census_top=mi_census_top.merge(mi_census_top['County, State'].str.split(pat=',',expand=True),how=\"outer\", left_index=True, right_index=True) \n",
    "#mi_census_top = mi_census_top.rename(columns={0: \"County\",\n",
    "#                                      1: \"State\"}).drop(columns=[\"County, State\"])\n",
    "mi_census_top"
   ]
  },
  {
   "cell_type": "code",
   "execution_count": 114,
   "metadata": {
    "tags": []
   },
   "outputs": [
    {
     "output_type": "stream",
     "name": "stdout",
     "text": "88\n"
    },
    {
     "output_type": "execute_result",
     "data": {
      "text/plain": "    Total Population  Per Capita Income   FIPS      County State  \\\n9          1275333.0            32552.0  39049    Franklin  Ohio   \n56         1253783.0            31804.0  39035    Cuyahoga  Ohio   \n76          812037.0            34125.0  39061    Hamilton  Ohio   \n29          541810.0            32055.0  39153      Summit  Ohio   \n59          532034.0            28807.0  39113  Montgomery  Ohio   \n42          432379.0            28361.0  39095       Lucas  Ohio   \n14          378294.0            30777.0  39017      Butler  Ohio   \n47          373475.0            28434.0  39151       Stark  Ohio   \n57          306713.0            29777.0  39093      Lorain  Ohio   \n72          231064.0            27429.0  39099    Mahoning  Ohio   \n\n   Country_Region          Last_Update        Lat      Long_  Confirmed  \\\n9              US  2020-09-12 04:25:05  39.969958 -83.011158      24144   \n56             US  2020-09-12 04:25:05  41.424119 -81.659183      16544   \n76             US  2020-09-12 04:25:05  39.196736 -84.545029      12067   \n29             US  2020-09-12 04:25:05  41.124647 -81.531231       4814   \n59             US  2020-09-12 04:25:05  39.753949 -84.290510       6961   \n42             US  2020-09-12 04:25:05  41.621012 -83.654686       6810   \n14             US  2020-09-12 04:25:05  39.440128 -84.573887       5124   \n47             US  2020-09-12 04:25:05  40.814825 -81.364373       2528   \n57             US  2020-09-12 04:25:05  41.295538 -82.150835       2197   \n72             US  2020-09-12 04:25:05  41.016311 -80.772870       2935   \n\n    Deaths  Recovered   Active  Incidence_Rate  Case-Fatality_Ratio  \n9      577          0  23567.0     1833.597113             2.389828  \n56     621          0  15923.0     1339.517048             3.753627  \n76     291          0  11776.0     1476.134380             2.411536  \n29     244          0   4570.0      889.812260             5.068550  \n59     143          0   6818.0     1309.228926             2.054303  \n42     350          0   6460.0     1589.828831             5.139501  \n14      87          0   5037.0     1337.391096             1.697892  \n47     158          0   2370.0      682.126031             6.250000  \n57      85          0   2112.0      709.091672             3.868912  \n72     274          0   2661.0     1283.436023             9.335605  ",
      "text/html": "<div>\n<style scoped>\n    .dataframe tbody tr th:only-of-type {\n        vertical-align: middle;\n    }\n\n    .dataframe tbody tr th {\n        vertical-align: top;\n    }\n\n    .dataframe thead th {\n        text-align: right;\n    }\n</style>\n<table border=\"1\" class=\"dataframe\">\n  <thead>\n    <tr style=\"text-align: right;\">\n      <th></th>\n      <th>Total Population</th>\n      <th>Per Capita Income</th>\n      <th>FIPS</th>\n      <th>County</th>\n      <th>State</th>\n      <th>Country_Region</th>\n      <th>Last_Update</th>\n      <th>Lat</th>\n      <th>Long_</th>\n      <th>Confirmed</th>\n      <th>Deaths</th>\n      <th>Recovered</th>\n      <th>Active</th>\n      <th>Incidence_Rate</th>\n      <th>Case-Fatality_Ratio</th>\n    </tr>\n  </thead>\n  <tbody>\n    <tr>\n      <th>9</th>\n      <td>1275333.0</td>\n      <td>32552.0</td>\n      <td>39049</td>\n      <td>Franklin</td>\n      <td>Ohio</td>\n      <td>US</td>\n      <td>2020-09-12 04:25:05</td>\n      <td>39.969958</td>\n      <td>-83.011158</td>\n      <td>24144</td>\n      <td>577</td>\n      <td>0</td>\n      <td>23567.0</td>\n      <td>1833.597113</td>\n      <td>2.389828</td>\n    </tr>\n    <tr>\n      <th>56</th>\n      <td>1253783.0</td>\n      <td>31804.0</td>\n      <td>39035</td>\n      <td>Cuyahoga</td>\n      <td>Ohio</td>\n      <td>US</td>\n      <td>2020-09-12 04:25:05</td>\n      <td>41.424119</td>\n      <td>-81.659183</td>\n      <td>16544</td>\n      <td>621</td>\n      <td>0</td>\n      <td>15923.0</td>\n      <td>1339.517048</td>\n      <td>3.753627</td>\n    </tr>\n    <tr>\n      <th>76</th>\n      <td>812037.0</td>\n      <td>34125.0</td>\n      <td>39061</td>\n      <td>Hamilton</td>\n      <td>Ohio</td>\n      <td>US</td>\n      <td>2020-09-12 04:25:05</td>\n      <td>39.196736</td>\n      <td>-84.545029</td>\n      <td>12067</td>\n      <td>291</td>\n      <td>0</td>\n      <td>11776.0</td>\n      <td>1476.134380</td>\n      <td>2.411536</td>\n    </tr>\n    <tr>\n      <th>29</th>\n      <td>541810.0</td>\n      <td>32055.0</td>\n      <td>39153</td>\n      <td>Summit</td>\n      <td>Ohio</td>\n      <td>US</td>\n      <td>2020-09-12 04:25:05</td>\n      <td>41.124647</td>\n      <td>-81.531231</td>\n      <td>4814</td>\n      <td>244</td>\n      <td>0</td>\n      <td>4570.0</td>\n      <td>889.812260</td>\n      <td>5.068550</td>\n    </tr>\n    <tr>\n      <th>59</th>\n      <td>532034.0</td>\n      <td>28807.0</td>\n      <td>39113</td>\n      <td>Montgomery</td>\n      <td>Ohio</td>\n      <td>US</td>\n      <td>2020-09-12 04:25:05</td>\n      <td>39.753949</td>\n      <td>-84.290510</td>\n      <td>6961</td>\n      <td>143</td>\n      <td>0</td>\n      <td>6818.0</td>\n      <td>1309.228926</td>\n      <td>2.054303</td>\n    </tr>\n    <tr>\n      <th>42</th>\n      <td>432379.0</td>\n      <td>28361.0</td>\n      <td>39095</td>\n      <td>Lucas</td>\n      <td>Ohio</td>\n      <td>US</td>\n      <td>2020-09-12 04:25:05</td>\n      <td>41.621012</td>\n      <td>-83.654686</td>\n      <td>6810</td>\n      <td>350</td>\n      <td>0</td>\n      <td>6460.0</td>\n      <td>1589.828831</td>\n      <td>5.139501</td>\n    </tr>\n    <tr>\n      <th>14</th>\n      <td>378294.0</td>\n      <td>30777.0</td>\n      <td>39017</td>\n      <td>Butler</td>\n      <td>Ohio</td>\n      <td>US</td>\n      <td>2020-09-12 04:25:05</td>\n      <td>39.440128</td>\n      <td>-84.573887</td>\n      <td>5124</td>\n      <td>87</td>\n      <td>0</td>\n      <td>5037.0</td>\n      <td>1337.391096</td>\n      <td>1.697892</td>\n    </tr>\n    <tr>\n      <th>47</th>\n      <td>373475.0</td>\n      <td>28434.0</td>\n      <td>39151</td>\n      <td>Stark</td>\n      <td>Ohio</td>\n      <td>US</td>\n      <td>2020-09-12 04:25:05</td>\n      <td>40.814825</td>\n      <td>-81.364373</td>\n      <td>2528</td>\n      <td>158</td>\n      <td>0</td>\n      <td>2370.0</td>\n      <td>682.126031</td>\n      <td>6.250000</td>\n    </tr>\n    <tr>\n      <th>57</th>\n      <td>306713.0</td>\n      <td>29777.0</td>\n      <td>39093</td>\n      <td>Lorain</td>\n      <td>Ohio</td>\n      <td>US</td>\n      <td>2020-09-12 04:25:05</td>\n      <td>41.295538</td>\n      <td>-82.150835</td>\n      <td>2197</td>\n      <td>85</td>\n      <td>0</td>\n      <td>2112.0</td>\n      <td>709.091672</td>\n      <td>3.868912</td>\n    </tr>\n    <tr>\n      <th>72</th>\n      <td>231064.0</td>\n      <td>27429.0</td>\n      <td>39099</td>\n      <td>Mahoning</td>\n      <td>Ohio</td>\n      <td>US</td>\n      <td>2020-09-12 04:25:05</td>\n      <td>41.016311</td>\n      <td>-80.772870</td>\n      <td>2935</td>\n      <td>274</td>\n      <td>0</td>\n      <td>2661.0</td>\n      <td>1283.436023</td>\n      <td>9.335605</td>\n    </tr>\n  </tbody>\n</table>\n</div>"
     },
     "metadata": {},
     "execution_count": 114
    }
   ],
   "source": [
    "oh_census_data = c.acs5.get((\"NAME\", \"B01003_001E\", \"B19301_001E\"), {'for': 'county:*','in':'state:39'})\n",
    "oh_census_pd = pd.DataFrame(oh_census_data)\n",
    "oh_census_pd = oh_census_pd.rename(columns={\"B01003_001E\": \"Total Population\",\n",
    "                                      \"B19301_001E\": \"Per Capita Income\",        \n",
    "                                      \"NAME\": \"County, State\"})\n",
    "\n",
    "oh_census_pd['FIPS']=oh_census_pd['state']+oh_census_pd['county']\n",
    "oh_census_pd=oh_census_pd.drop(columns=['state','county'])\n",
    "oh_census_pd=oh_census_pd.merge(covid_91120_data,how='left',on='FIPS').drop(columns={'County, State','Combined_Key'}).rename(columns={'Admin2':'County','Province_State':'State'})\n",
    "\n",
    "print(len(oh_census_pd))\n",
    "oh_census_pd.head()\n",
    "oh_census_top = oh_census_pd.nlargest(10,[\"Total Population\"])\n",
    "#oh_census_top['County, State'].str.split(pat=',',expand=True)\n",
    "#oh_census_top=oh_census_top.merge(oh_census_top['County, State'].str.split(pat=',',expand=True),how=\"outer\", left_index=True, right_index=True) \n",
    "#oh_census_top = oh_census_top.rename(columns={0: \"County\",\n",
    "#                                      1: \"State\"}).drop(columns=[\"County, State\"])\n",
    "oh_census_top"
   ]
  },
  {
   "cell_type": "code",
   "execution_count": null,
   "metadata": {},
   "outputs": [],
   "source": []
  }
 ],
 "metadata": {
  "kernelspec": {
   "display_name": "Python 3.6.10 64-bit ('bcs': conda)",
   "language": "python",
   "name": "python_defaultSpec_1600132322308"
  },
  "language_info": {
   "codemirror_mode": {
    "name": "ipython",
    "version": 3
   },
   "file_extension": ".py",
   "mimetype": "text/x-python",
   "name": "python",
   "nbconvert_exporter": "python",
   "pygments_lexer": "ipython3",
   "version": "3.6.10-final"
  }
 },
 "nbformat": 4,
 "nbformat_minor": 4
}